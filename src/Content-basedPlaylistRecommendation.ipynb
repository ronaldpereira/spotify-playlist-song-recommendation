{
 "cells": [
  {
   "cell_type": "code",
   "execution_count": null,
   "metadata": {},
   "outputs": [],
   "source": [
    "import numpy as np\n",
    "import pandas as pd\n",
    "import scipy.sparse as sp\n",
    "import json\n",
    "import os"
   ]
  },
  {
   "cell_type": "code",
   "execution_count": null,
   "metadata": {},
   "outputs": [],
   "source": [
    "def json_reader(begin):\n",
    "    if begin not in np.arange(0, 11000, 1000):\n",
    "        raise Exception(\n",
    "            \"Invalid start pid! Start pids must be {0, 1000, 2000, ..., 11000}\"\n",
    "        )\n",
    "\n",
    "    end = begin + 999\n",
    "    path = \"../data/playlists/playlist.slice.\" + str(begin) + \"-\" + str(end) + \".json\"\n",
    "\n",
    "    jsonData = json.load(open(path, \"r\"))\n",
    "    actualSlice = pd.DataFrame.from_dict(jsonData[\"playlists\"], orient=\"columns\")\n",
    "    return actualSlice"
   ]
  },
  {
   "cell_type": "code",
   "execution_count": null,
   "metadata": {},
   "outputs": [],
   "source": [
    "jsonList = []\n",
    "for begin in np.arange(0, 11000, 1000):\n",
    "    actual = json_reader(begin)\n",
    "    jsonList.append(actual)\n",
    "\n",
    "trainData = pd.concat(jsonList, ignore_index=True)\n",
    "jsonList.clear()\n",
    "\n",
    "print(trainData.shape)"
   ]
  },
  {
   "cell_type": "code",
   "execution_count": null,
   "metadata": {},
   "outputs": [],
   "source": [
    "# Turn playlist level dataframe into song level dataframe\n",
    "# is a df of all track ids, cooresponding artist names, track names and playlist ids\n",
    "\n",
    "songPlaylistArray = []\n",
    "for index, row in trainData.iterrows():\n",
    "    for track in row[\"tracks\"]:\n",
    "        songPlaylistArray.append(\n",
    "            [track[\"track_uri\"], track[\"artist_name\"], track[\"track_name\"], row[\"pid\"]]\n",
    "        )\n",
    "songPlaylist = pd.DataFrame(\n",
    "    songPlaylistArray, columns=[\"trackid\", \"artist_name\", \"track_name\", \"pid\"]\n",
    ")\n",
    "songPlaylistArray.clear()\n",
    "\n",
    "print(songPlaylist.shape)\n",
    "songPlaylist.head(10)"
   ]
  },
  {
   "cell_type": "code",
   "execution_count": null,
   "metadata": {},
   "outputs": [],
   "source": [
    "def json_content_reader(begin):\n",
    "    if begin not in np.arange(0, 731000, 1000):\n",
    "        raise Exception(\n",
    "            \"Invalid start contentid! Start pids must be {0, 1000, 2000, ..., 731000}\"\n",
    "        )\n",
    "\n",
    "    end = begin + 999\n",
    "    path = (\n",
    "        \"../data/music_contents/content.slice.\" + str(begin) + \"-\" + str(end) + \".json\"\n",
    "    )\n",
    "    jsonData = json.load(open(path, \"r\"))\n",
    "    \n",
    "    actualSlice = pd.DataFrame.from_dict(jsonData, orient=\"columns\")\n",
    "    return actualSlice"
   ]
  },
  {
   "cell_type": "code",
   "execution_count": null,
   "metadata": {
    "scrolled": true
   },
   "outputs": [],
   "source": [
    "jsonList = []\n",
    "for begin in np.arange(0, 731000, 1000):\n",
    "    actual = json_content_reader(begin)\n",
    "    jsonList.append(actual)\n",
    "\n",
    "contentData = pd.concat(jsonList, ignore_index=True)\n",
    "jsonList.clear()\n",
    "\n",
    "print(contentData.shape)\n",
    "contentData.head(10)"
   ]
  },
  {
   "cell_type": "code",
   "execution_count": null,
   "metadata": {},
   "outputs": [],
   "source": [
    "contentData.drop(\n",
    "    columns=[\n",
    "        \"type\",\n",
    "        \"track_href\",\n",
    "        \"mode\",\n",
    "        \"time_signature\",\n",
    "        \"id\",\n",
    "        \"analysis_url\",\n",
    "        \"key\",\n",
    "        \"duration_ms\",\n",
    "    ],\n",
    "    inplace=True,\n",
    ")\n",
    "\n",
    "contentData.head(10)"
   ]
  },
  {
   "cell_type": "code",
   "execution_count": null,
   "metadata": {},
   "outputs": [],
   "source": [
    "contentData = pd.merge(\n",
    "    songPlaylist, contentData, left_on=\"trackid\", right_on=\"uri\", how=\"left\"\n",
    ")"
   ]
  },
  {
   "cell_type": "code",
   "execution_count": null,
   "metadata": {},
   "outputs": [],
   "source": [
    "contentData.head(10)"
   ]
  },
  {
   "cell_type": "code",
   "execution_count": null,
   "metadata": {},
   "outputs": [],
   "source": [
    "contentData.count()"
   ]
  }
 ],
 "metadata": {
  "kernelspec": {
   "display_name": "Python 3",
   "language": "python",
   "name": "python3"
  },
  "language_info": {
   "codemirror_mode": {
    "name": "ipython",
    "version": 3
   },
   "file_extension": ".py",
   "mimetype": "text/x-python",
   "name": "python",
   "nbconvert_exporter": "python",
   "pygments_lexer": "ipython3",
   "version": "3.7.3"
  }
 },
 "nbformat": 4,
 "nbformat_minor": 2
}
